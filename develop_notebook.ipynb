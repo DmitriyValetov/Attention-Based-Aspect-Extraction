{
 "cells": [
  {
   "cell_type": "code",
   "execution_count": 1,
   "metadata": {},
   "outputs": [],
   "source": [
    "import torch\n",
    "\n",
    "\n",
    "from random import randint"
   ]
  },
  {
   "cell_type": "markdown",
   "metadata": {},
   "source": [
    "# Data"
   ]
  },
  {
   "cell_type": "code",
   "execution_count": null,
   "metadata": {},
   "outputs": [],
   "source": []
  },
  {
   "cell_type": "markdown",
   "metadata": {},
   "source": [
    "# Model"
   ]
  },
  {
   "cell_type": "code",
   "execution_count": 182,
   "metadata": {},
   "outputs": [
    {
     "name": "stdout",
     "output_type": "stream",
     "text": [
      "sentences: 7\n",
      "words: 100\n",
      "vocab size: 99\n"
     ]
    }
   ],
   "source": [
    "from model import ABAE\n",
    "    \n",
    "    \n",
    "# test ABAE model\n",
    "text = [\n",
    "    [randint(0,99) for _ in range(randint(10,20))],\n",
    "    [randint(0,99) for _ in range(randint(10,20))],\n",
    "    [randint(0,99) for _ in range(randint(10,20))],\n",
    "    [randint(0,99) for _ in range(randint(10,20))],\n",
    "    [randint(0,99) for _ in range(randint(10,20))],\n",
    "    [randint(0,99) for _ in range(randint(10,20))],\n",
    "    [randint(0,99) for _ in range(randint(10,20))]\n",
    "]\n",
    "\n",
    "vocab = set()\n",
    "for s in text:\n",
    "    for w in s:\n",
    "        vocab.add(w)\n",
    "\n",
    "print(f\"sentences: {len(text)}\")\n",
    "print(f\"words: {sum([len(s) for s in text])}\")\n",
    "print(f\"vocab size: {max(vocab)}\")\n",
    "    \n",
    "model = ABAE(word_num=max(vocab)+1)\n",
    "ps = torch.Tensor(text[0]).long()\n",
    "ns_list = list(map(lambda x: torch.Tensor(x).long(), [text[1], text[2], text[3]]))\n",
    "rs, ns_list = model(ps, ns_list)"
   ]
  },
  {
   "cell_type": "markdown",
   "metadata": {},
   "source": [
    "# Train"
   ]
  },
  {
   "cell_type": "code",
   "execution_count": null,
   "metadata": {},
   "outputs": [],
   "source": []
  },
  {
   "cell_type": "markdown",
   "metadata": {},
   "source": [
    "# Test-Inference"
   ]
  },
  {
   "cell_type": "code",
   "execution_count": null,
   "metadata": {},
   "outputs": [],
   "source": []
  },
  {
   "cell_type": "code",
   "execution_count": null,
   "metadata": {},
   "outputs": [],
   "source": []
  }
 ],
 "metadata": {
  "kernelspec": {
   "display_name": "Python 3",
   "language": "python",
   "name": "python3"
  },
  "language_info": {
   "codemirror_mode": {
    "name": "ipython",
    "version": 3
   },
   "file_extension": ".py",
   "mimetype": "text/x-python",
   "name": "python",
   "nbconvert_exporter": "python",
   "pygments_lexer": "ipython3",
   "version": "3.7.6"
  }
 },
 "nbformat": 4,
 "nbformat_minor": 4
}
