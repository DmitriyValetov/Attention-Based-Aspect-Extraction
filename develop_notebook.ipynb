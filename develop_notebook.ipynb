{
 "cells": [
  {
   "cell_type": "code",
   "execution_count": 24,
   "metadata": {},
   "outputs": [],
   "source": [
    "import re\n",
    "from random import randint\n",
    "from collections import defaultdict\n",
    "\n",
    "import torch\n",
    "from sklearn.datasets import fetch_20newsgroups\n",
    "\n",
    "import nltk\n",
    "from nltk import word_tokenize\n",
    "from nltk.corpus import stopwords\n",
    "from nltk.tokenize import sent_tokenize, word_tokenize\n",
    "\n",
    "\n",
    "import seaborn as sns\n",
    "import matplotlib.pyplot as plt"
   ]
  },
  {
   "cell_type": "markdown",
   "metadata": {},
   "source": [
    "# Data"
   ]
  },
  {
   "cell_type": "code",
   "execution_count": 25,
   "metadata": {},
   "outputs": [
    {
     "name": "stdout",
     "output_type": "stream",
     "text": [
      "min: 100\n",
      "min: 9473\n",
      "min: 389.6283783783784\n",
      "voc size: 2812\n",
      "empty sentences: 0\n",
      "min: 2\n",
      "max: 3888\n",
      "min: 96.83887219374226\n",
      "amount os sentences: 11314\n",
      "good sentences: 10301\n"
     ]
    },
    {
     "data": {
      "image/png": "[encoded data removed]",
      "text/plain": [
       "<Figure size 432x288 with 1 Axes>"
      ]
     },
     "metadata": {
      "needs_background": "light"
     },
     "output_type": "display_data"
    }
   ],
   "source": [
    "def prepear_data(stop):\n",
    "    newsgroups_train = fetch_20newsgroups(subset='train')\n",
    "    sentences = []\n",
    "    sentences_i = []\n",
    "    word2idx = {}\n",
    "    idx2word = {}\n",
    "    word_counter = defaultdict(int)\n",
    "\n",
    "    for raw_s in newsgroups_train['data']:\n",
    "        processed = []\n",
    "        processed_i = []\n",
    "        for w in word_tokenize(raw_s.lower()):\n",
    "            if re.match(r\"^[a-zA-Z]+$\", w) and w not in stop:\n",
    "                if w not in word2idx:\n",
    "                    word2idx[w] = len(word2idx)+1\n",
    "                    idx2word[word2idx[w]] = w\n",
    "\n",
    "                word_counter[w] += 1\n",
    "                processed.append(w)\n",
    "                processed_i.append(word2idx[w])\n",
    "\n",
    "\n",
    "        sentences.append(processed)\n",
    "        sentences_i.append(processed_i)\n",
    "    \n",
    "    return sentences, sentences_i, word2idx, idx2word, word_counter\n",
    "    \n",
    "\n",
    "stop = set(stopwords.words('english'))\n",
    "sentences, sentences_i, word2idx, idx2word, word_counter = prepear_data(stop)\n",
    "for w in [k for k in word_counter if 10000 < word_counter[k] or word_counter[k] < 100]:\n",
    "    stop.add(w)\n",
    "sentences, sentences_i, word2idx, idx2word, word_counter = prepear_data(stop)\n",
    "\n",
    "\n",
    "# check words counters\n",
    "nums = [word_counter[k] for k in word_counter]\n",
    "print(f\"min: {min(nums)}\")\n",
    "print(f\"min: {max(nums)}\")\n",
    "print(f\"min: {sum(nums)/len(nums)}\")\n",
    "print(f\"voc size: {len(word_counter)}\")\n",
    "sns.distplot(nums)\n",
    "plt.show()\n",
    "plt.close()\n",
    "\n",
    "\n",
    "# check empty sentences\n",
    "counter = 0\n",
    "for s in sentences_i:\n",
    "    if len(s)==0:\n",
    "        counter += 1\n",
    "print(f\"empty sentences: {counter}\")\n",
    "\n",
    "\n",
    "# check lengths\n",
    "lengths = [len(s) for s in sentences_i]\n",
    "print(f\"min: {min(lengths)}\")\n",
    "print(f\"max: {max(lengths)}\")\n",
    "print(f\"min: {sum(lengths)/len(lengths)}\")\n",
    "print(f\"amount os sentences: {len(lengths)}\")\n",
    "sns.distplot(lengths)\n",
    "plt.show()\n",
    "plt.close()\n",
    "\n",
    "\n",
    "# fillter medium length sentences\n",
    "zipped_s = zip(sentences, sentences_i)\n",
    "good_sentences = []\n",
    "for s, s_i in zipped_s:\n",
    "    if len(s) > 10 and len(s)<200:\n",
    "        good_sentences.append([s, s_i])\n",
    "print(f\"good sentences: {len(good_sentences)}\")"
   ]
  },
  {
   "cell_type": "markdown",
   "metadata": {},
   "source": [
    "# Gensim - prepear word vectors"
   ]
  },
  {
   "cell_type": "code",
   "execution_count": 2,
   "metadata": {},
   "outputs": [
    {
     "name": "stderr",
     "output_type": "stream",
     "text": [
      "unable to import 'smart_open.gcs', disabling that module\n"
     ]
    }
   ],
   "source": [
    "import gensim\n",
    "from gensim import corpora"
   ]
  },
  {
   "cell_type": "code",
   "execution_count": 3,
   "metadata": {},
   "outputs": [
    {
     "name": "stdout",
     "output_type": "stream",
     "text": [
      "Dictionary(33 unique tokens: ['Saudis', 'The', 'a', 'acknowledge', 'are']...)\n"
     ]
    }
   ],
   "source": [
    "import gensim\n",
    "from gensim import corpora\n",
    "from pprint import pprint\n",
    "\n",
    "# How to create a dictionary from a list of sentences?\n",
    "documents = [\"The Saudis are preparing a report that will acknowledge that\", \n",
    "             \"Saudi journalist Jamal Khashoggi's death was the result of an\", \n",
    "             \"interrogation that went wrong, one that was intended to lead\", \n",
    "             \"to his abduction from Turkey, according to two sources.\"]\n",
    "\n",
    "documents_2 = [\"One source says the report will likely conclude that\", \n",
    "                \"the operation was carried out without clearance and\", \n",
    "                \"transparency and that those involved will be held\", \n",
    "                \"responsible. One of the sources acknowledged that the\", \n",
    "                \"report is still being prepared and cautioned that\", \n",
    "                \"things could change.\"]\n",
    "\n",
    "# Tokenize(split) the sentences into words\n",
    "texts = [[text for text in doc.split()] for doc in documents]\n",
    "\n",
    "# Create dictionary\n",
    "dictionary = corpora.Dictionary(texts)\n",
    "\n",
    "# Get information about the dictionary\n",
    "print(dictionary)"
   ]
  },
  {
   "cell_type": "code",
   "execution_count": 23,
   "metadata": {},
   "outputs": [
    {
     "data": {
      "text/plain": [
       "1701"
      ]
     },
     "execution_count": 23,
     "metadata": {},
     "output_type": "execute_result"
    }
   ],
   "source": [
    "len(data)"
   ]
  },
  {
   "cell_type": "code",
   "execution_count": 4,
   "metadata": {},
   "outputs": [
    {
     "name": "stdout",
     "output_type": "stream",
     "text": [
      "[==================================================] 100.0% 31.6/31.6MB downloaded\n"
     ]
    },
    {
     "name": "stderr",
     "output_type": "stream",
     "text": [
      "D:\\Python37\\lib\\site-packages\\ipykernel_launcher.py:17: DeprecationWarning: Call to deprecated `__getitem__` (Method will be removed in 4.0.0, use self.wv.__getitem__() instead).\n",
      "D:\\Python37\\lib\\site-packages\\ipykernel_launcher.py:20: DeprecationWarning: Call to deprecated `most_similar` (Method will be removed in 4.0.0, use self.wv.most_similar() instead).\n"
     ]
    }
   ],
   "source": [
    "from gensim.models.word2vec import Word2Vec\n",
    "from multiprocessing import cpu_count\n",
    "import gensim.downloader as api\n",
    "\n",
    "# Download dataset\n",
    "dataset = api.load(\"text8\")\n",
    "data = [d for d in dataset]\n",
    "\n",
    "# Split the data into 2 parts. Part 2 will be used later to update the model\n",
    "data_part1 = data[:1000]\n",
    "data_part2 = data[1000:]\n",
    "\n",
    "# Train Word2Vec model. Defaults result vector size = 100\n",
    "model = Word2Vec(data_part1, min_count = 0, workers=cpu_count())\n",
    "\n",
    "# Get the word vector for given word\n",
    "model['topic']\n",
    "#> array([ 0.0512,  0.2555,  0.9393, ... ,-0.5669,  0.6737], dtype=float32)\n",
    "\n",
    "model.most_similar('topic')\n",
    "#> [('discussion', 0.7590423822402954),\n",
    "#>  ('consensus', 0.7253159284591675),\n",
    "#>  ('discussions', 0.7252693176269531),\n",
    "#>  ('interpretation', 0.7196053266525269),\n",
    "#>  ('viewpoint', 0.7053568959236145),\n",
    "#>  ('speculation', 0.7021505832672119),\n",
    "#>  ('discourse', 0.7001898884773254),\n",
    "#>  ('opinions', 0.6993060111999512),\n",
    "#>  ('focus', 0.6959210634231567),\n",
    "#>  ('scholarly', 0.6884037256240845)]\n",
    "\n",
    "# Save and Load Model\n",
    "model.save('newmodel')\n",
    "model = Word2Vec.load('newmodel')"
   ]
  },
  {
   "cell_type": "code",
   "execution_count": 15,
   "metadata": {},
   "outputs": [],
   "source": [
    "words = list(model.wv.vocab.keys())"
   ]
  },
  {
   "cell_type": "code",
   "execution_count": 17,
   "metadata": {},
   "outputs": [
    {
     "name": "stderr",
     "output_type": "stream",
     "text": [
      "D:\\Python37\\lib\\site-packages\\ipykernel_launcher.py:1: DeprecationWarning: Call to deprecated `__getitem__` (Method will be removed in 4.0.0, use self.wv.__getitem__() instead).\n",
      "  \"\"\"Entry point for launching an IPython kernel.\n"
     ]
    },
    {
     "data": {
      "text/plain": [
       "array([ 0.4693572 ,  0.16573942,  0.6321571 ,  0.18033183,  0.23024836,\n",
       "        0.04769387, -0.20294072, -0.14887291,  0.15628645, -0.53746074,\n",
       "       -0.94839203,  0.4006723 ,  0.05611078,  0.37166303, -0.95123637,\n",
       "       -0.4584396 , -0.18265401, -0.18641753, -1.7252973 , -0.27459747,\n",
       "        0.84903735, -1.2541428 ,  0.50131816, -0.30883753,  1.1992224 ,\n",
       "        0.32269648, -0.8226798 , -0.14062193,  0.01268702, -0.81899774,\n",
       "       -0.24131848,  0.52215475,  1.10018   , -0.40644258, -0.799103  ,\n",
       "       -0.18906738, -0.99334556, -0.16566505, -1.7233512 , -0.67047596,\n",
       "        0.91215694, -0.27058432, -0.2712155 ,  0.56400245,  0.5196396 ,\n",
       "       -0.39248878, -0.81086224,  0.19276704, -1.2013787 , -1.5196918 ,\n",
       "       -0.3077587 , -0.04925025,  1.3118976 ,  1.0571488 ,  1.1098902 ,\n",
       "        1.1208178 , -0.53183544,  0.49636286, -0.6295749 ,  0.3324188 ,\n",
       "       -0.4326501 , -0.14180197, -0.6342511 , -0.31952852,  0.26246393,\n",
       "        0.22540149,  0.40395063, -0.61883634, -0.87128025, -0.1284411 ,\n",
       "        0.19318658, -0.6712782 , -0.78828514, -0.5366071 ,  0.44699126,\n",
       "       -0.06048692, -1.2157087 , -0.19972464,  0.12077103, -0.512274  ,\n",
       "       -0.32894483, -0.6275786 , -0.8874479 , -0.5897838 ,  0.1670001 ,\n",
       "        0.2738976 ,  0.52438986,  0.6567602 ,  0.10946   , -0.11005452,\n",
       "       -0.14607467, -0.25804672, -1.2087595 ,  0.5149728 ,  0.03351965,\n",
       "        0.5987458 ,  0.2201717 , -0.9481267 ,  0.72264224,  0.09539323],\n",
       "      dtype=float32)"
      ]
     },
     "execution_count": 17,
     "metadata": {},
     "output_type": "execute_result"
    }
   ],
   "source": [
    "model[words[0]]"
   ]
  },
  {
   "cell_type": "code",
   "execution_count": 8,
   "metadata": {},
   "outputs": [
    {
     "name": "stderr",
     "output_type": "stream",
     "text": [
      "D:\\Python37\\lib\\site-packages\\ipykernel_launcher.py:1: DeprecationWarning: Call to deprecated `__getitem__` (Method will be removed in 4.0.0, use self.wv.__getitem__() instead).\n",
      "  \"\"\"Entry point for launching an IPython kernel.\n"
     ]
    },
    {
     "data": {
      "text/plain": [
       "array([ 8.0669302e-01,  7.4509376e-01,  6.2561011e-01,  6.1944568e-01,\n",
       "        4.4743389e-01,  1.2473942e+00, -1.0893017e-01,  5.2851975e-01,\n",
       "       -4.3679163e-01, -2.6272682e-02, -3.5963902e-01,  1.0442163e+00,\n",
       "       -8.4213179e-01,  3.2471570e-01, -1.3577753e+00, -3.5617080e-01,\n",
       "        2.8453538e-01,  6.8138236e-01, -1.1693423e+00,  5.2097553e-01,\n",
       "       -1.5301671e-02, -1.4516917e+00,  5.3647840e-01,  4.0520751e-01,\n",
       "        1.3666022e-01,  1.9710340e-02, -4.6019906e-01,  3.9469126e-01,\n",
       "        1.8693398e-01, -5.6027842e-01, -4.3873399e-02,  9.9425840e-01,\n",
       "       -2.2398904e-03, -1.6988477e-01, -1.9249434e+00, -4.8858121e-01,\n",
       "       -9.5728511e-01, -7.7830825e-04, -1.1235158e+00,  2.4249274e-01,\n",
       "        6.1912513e-01, -3.8958725e-01,  7.8654331e-01,  2.7274451e-01,\n",
       "       -7.7405775e-01, -1.2863933e-01, -6.4415777e-01,  3.1884488e-01,\n",
       "       -8.8206679e-01, -4.6098956e-01, -3.6224189e-01,  1.1373239e+00,\n",
       "        5.7200009e-01,  6.6850197e-01, -3.7271705e-01,  2.4945411e-01,\n",
       "        3.2489973e-01, -5.2301240e-01, -6.4495319e-01,  7.7134883e-01,\n",
       "       -2.2030774e-01,  4.0372759e-01, -1.8696274e+00, -5.6264961e-01,\n",
       "        3.1821039e-02, -4.8705748e-01,  2.0844945e-01, -6.3252407e-01,\n",
       "       -1.2990992e+00, -2.8228134e-01, -6.8169273e-02, -3.2909313e-01,\n",
       "        1.1995089e+00,  6.9178522e-01, -3.7629175e-01,  3.6080992e-01,\n",
       "       -1.2036290e+00,  6.4000005e-01, -3.9687414e-02,  1.0864601e+00,\n",
       "       -5.8802791e-02,  1.3639124e-02,  6.0354865e-01, -2.9963773e-01,\n",
       "       -4.9177620e-01, -1.5591076e-01,  6.3530713e-02,  1.6226403e-01,\n",
       "        5.5651486e-01, -6.5266389e-01, -1.0407168e-01,  1.4550209e-01,\n",
       "       -9.8524481e-01, -2.8371978e-01, -1.3256848e+00,  2.7658936e-01,\n",
       "       -8.1482148e-03, -1.2414846e+00,  1.6290992e-01,  1.7338993e-01],\n",
       "      dtype=float32)"
      ]
     },
     "execution_count": 8,
     "metadata": {},
     "output_type": "execute_result"
    }
   ],
   "source": [
    "model['topic']"
   ]
  },
  {
   "cell_type": "markdown",
   "metadata": {},
   "source": [
    "# Model"
   ]
  },
  {
   "cell_type": "code",
   "execution_count": 182,
   "metadata": {},
   "outputs": [
    {
     "name": "stdout",
     "output_type": "stream",
     "text": [
      "sentences: 7\n",
      "words: 100\n",
      "vocab size: 99\n"
     ]
    }
   ],
   "source": [
    "from model import ABAE\n",
    "    \n",
    "    \n",
    "# test ABAE model\n",
    "text = [\n",
    "    [randint(0,99) for _ in range(randint(10,20))],\n",
    "    [randint(0,99) for _ in range(randint(10,20))],\n",
    "    [randint(0,99) for _ in range(randint(10,20))],\n",
    "    [randint(0,99) for _ in range(randint(10,20))],\n",
    "    [randint(0,99) for _ in range(randint(10,20))],\n",
    "    [randint(0,99) for _ in range(randint(10,20))],\n",
    "    [randint(0,99) for _ in range(randint(10,20))]\n",
    "]\n",
    "\n",
    "vocab = set()\n",
    "for s in text:\n",
    "    for w in s:\n",
    "        vocab.add(w)\n",
    "\n",
    "print(f\"sentences: {len(text)}\")\n",
    "print(f\"words: {sum([len(s) for s in text])}\")\n",
    "print(f\"vocab size: {max(vocab)}\")\n",
    "    \n",
    "model = ABAE(word_num=max(vocab)+1)\n",
    "ps = torch.Tensor(text[0]).long()\n",
    "ns_list = list(map(lambda x: torch.Tensor(x).long(), [text[1], text[2], text[3]]))\n",
    "rs, ns_list = model(ps, ns_list)"
   ]
  },
  {
   "cell_type": "markdown",
   "metadata": {},
   "source": [
    "# Train"
   ]
  },
  {
   "cell_type": "code",
   "execution_count": 313,
   "metadata": {},
   "outputs": [],
   "source": [
    "epochs_num = 1\n",
    "m = 20 # negative_samples\n",
    "aspects_num=14\n",
    "emb_size=200\n",
    "batch_size = 40"
   ]
  },
  {
   "cell_type": "code",
   "execution_count": 314,
   "metadata": {},
   "outputs": [],
   "source": [
    "model = ABAE(len(word2idx), aspects_num, emb_size)"
   ]
  },
  {
   "cell_type": "code",
   "execution_count": null,
   "metadata": {},
   "outputs": [],
   "source": [
    "# make dataset class for batches"
   ]
  },
  {
   "cell_type": "code",
   "execution_count": null,
   "metadata": {},
   "outputs": [],
   "source": [
    "for epoch_i in range(epochs_num):\n",
    "    for sample_i in range(len(good_sentences)):\n",
    "        \n",
    "        # positive samples\n",
    "        s, s_i = good_sentences[sample_i]\n",
    "        \n",
    "        # get_negative"
   ]
  },
  {
   "cell_type": "markdown",
   "metadata": {},
   "source": [
    "# Test-Inference"
   ]
  },
  {
   "cell_type": "code",
   "execution_count": null,
   "metadata": {},
   "outputs": [],
   "source": [
    "# get major aspects and major words"
   ]
  },
  {
   "cell_type": "code",
   "execution_count": null,
   "metadata": {},
   "outputs": [],
   "source": []
  }
 ],
 "metadata": {
  "kernelspec": {
   "display_name": "Python 3",
   "language": "python",
   "name": "python3"
  },
  "language_info": {
   "codemirror_mode": {
    "name": "ipython",
    "version": 3
   },
   "file_extension": ".py",
   "mimetype": "text/x-python",
   "name": "python",
   "nbconvert_exporter": "python",
   "pygments_lexer": "ipython3",
   "version": "3.7.6"
  }
 },
 "nbformat": 4,
 "nbformat_minor": 4
}
